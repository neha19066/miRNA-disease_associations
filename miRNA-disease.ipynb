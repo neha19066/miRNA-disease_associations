{
  "nbformat": 4,
  "nbformat_minor": 0,
  "metadata": {
    "colab": {
      "name": "CF_Project.ipynb",
      "provenance": [],
      "collapsed_sections": []
    },
    "kernelspec": {
      "name": "python3",
      "display_name": "Python 3"
    },
    "language_info": {
      "name": "python"
    }
  },
  "cells": [
    {
      "cell_type": "code",
      "execution_count": null,
      "metadata": {
        "id": "tCSSZjfrkrNg"
      },
      "outputs": [],
      "source": [
        "import numpy as np\n",
        "import pandas as pd\n",
        "from sklearn.svm import SVC\n",
        "import matplotlib.pyplot as plt\n",
        "from sklearn.metrics import make_scorer\n",
        "from sklearn.model_selection import KFold \n",
        "from sklearn.metrics import accuracy_score\n",
        "from sklearn.metrics import matthews_corrcoef\n",
        "from sklearn.neural_network import MLPClassifier\n",
        "from sklearn.model_selection import GridSearchCV\n",
        "from sklearn.neighbors import KNeighborsClassifier\n",
        "from sklearn.ensemble import RandomForestClassifier\n",
        "from sklearn.feature_selection import SelectKBest,f_classif\n",
        "from sklearn.model_selection import cross_val_predict\n",
        "from sklearn.model_selection import cross_val_score\n",
        "from sklearn.linear_model import LogisticRegression\n",
        "from sklearn.model_selection import GridSearchCV\n",
        "from sklearn.model_selection import cross_val_predict\n",
        "from sklearn.model_selection import cross_val_score\n",
        "from sklearn.metrics import make_scorer\n",
        "from sklearn.metrics import roc_auc_score\n",
        "from sklearn.metrics import recall_score\n",
        "from sklearn.ensemble import ExtraTreesClassifier\n",
        "from sklearn.model_selection import KFold\n",
        "from sklearn.metrics import matthews_corrcoef \n",
        "from sklearn.metrics import accuracy_score\n",
        "from sklearn.ensemble import RandomForestClassifier\n",
        "import seaborn as sns"
      ]
    },
    {
      "cell_type": "code",
      "source": [
        "from google.colab import drive\n",
        "drive.mount('/content/drive', force_remount=True)\n",
        "file_path = '/content/drive/MyDrive/'"
      ],
      "metadata": {
        "colab": {
          "base_uri": "https://localhost:8080/"
        },
        "id": "ORhfEMXtlFQt",
        "outputId": "70d209f3-b631-4e2b-d4b7-6489044f6613"
      },
      "execution_count": null,
      "outputs": [
        {
          "output_type": "stream",
          "name": "stdout",
          "text": [
            "Mounted at /content/drive\n"
          ]
        }
      ]
    },
    {
      "cell_type": "code",
      "source": [
        "df = pd.read_csv(file_path+'alldata.csv')\n",
        "df.head()"
      ],
      "metadata": {
        "colab": {
          "base_uri": "https://localhost:8080/",
          "height": 206
        },
        "id": "A4pmBxXAmolO",
        "outputId": "2cfb31c4-d9d4-445b-8441-106d9815c538"
      },
      "execution_count": null,
      "outputs": [
        {
          "output_type": "execute_result",
          "data": {
            "text/plain": [
              "                               category          mir  \\\n",
              "0  circulation_biomarker_diagnosis_down  hsa-mir-15a   \n",
              "1  circulation_biomarker_diagnosis_down   hsa-mir-16   \n",
              "2  circulation_biomarker_diagnosis_down  hsa-mir-143   \n",
              "3  circulation_biomarker_diagnosis_down  hsa-mir-145   \n",
              "4  circulation_biomarker_diagnosis_down  hsa-mir-223   \n",
              "\n",
              "                                  disease      pmid  \\\n",
              "0  Leukemia, Lymphocytic, Chronic, B-Cell  15737576   \n",
              "1  Leukemia, Lymphocytic, Chronic, B-Cell  15737576   \n",
              "2                         Colon Neoplasms  16195701   \n",
              "3                         Colon Neoplasms  16195701   \n",
              "4  Leukemia, Lymphocytic, Chronic, B-Cell  16251535   \n",
              "\n",
              "                                         description  \n",
              "0  Some human miRNAs are linked to leukemias: the...  \n",
              "1  Some human miRNAs are linked to leukemias: the...  \n",
              "2                                     downregulation  \n",
              "3                                     downregulation  \n",
              "4                                      downregulated  "
            ],
            "text/html": [
              "\n",
              "  <div id=\"df-2f844215-3524-4648-a7e1-5951b8a528e3\">\n",
              "    <div class=\"colab-df-container\">\n",
              "      <div>\n",
              "<style scoped>\n",
              "    .dataframe tbody tr th:only-of-type {\n",
              "        vertical-align: middle;\n",
              "    }\n",
              "\n",
              "    .dataframe tbody tr th {\n",
              "        vertical-align: top;\n",
              "    }\n",
              "\n",
              "    .dataframe thead th {\n",
              "        text-align: right;\n",
              "    }\n",
              "</style>\n",
              "<table border=\"1\" class=\"dataframe\">\n",
              "  <thead>\n",
              "    <tr style=\"text-align: right;\">\n",
              "      <th></th>\n",
              "      <th>category</th>\n",
              "      <th>mir</th>\n",
              "      <th>disease</th>\n",
              "      <th>pmid</th>\n",
              "      <th>description</th>\n",
              "    </tr>\n",
              "  </thead>\n",
              "  <tbody>\n",
              "    <tr>\n",
              "      <th>0</th>\n",
              "      <td>circulation_biomarker_diagnosis_down</td>\n",
              "      <td>hsa-mir-15a</td>\n",
              "      <td>Leukemia, Lymphocytic, Chronic, B-Cell</td>\n",
              "      <td>15737576</td>\n",
              "      <td>Some human miRNAs are linked to leukemias: the...</td>\n",
              "    </tr>\n",
              "    <tr>\n",
              "      <th>1</th>\n",
              "      <td>circulation_biomarker_diagnosis_down</td>\n",
              "      <td>hsa-mir-16</td>\n",
              "      <td>Leukemia, Lymphocytic, Chronic, B-Cell</td>\n",
              "      <td>15737576</td>\n",
              "      <td>Some human miRNAs are linked to leukemias: the...</td>\n",
              "    </tr>\n",
              "    <tr>\n",
              "      <th>2</th>\n",
              "      <td>circulation_biomarker_diagnosis_down</td>\n",
              "      <td>hsa-mir-143</td>\n",
              "      <td>Colon Neoplasms</td>\n",
              "      <td>16195701</td>\n",
              "      <td>downregulation</td>\n",
              "    </tr>\n",
              "    <tr>\n",
              "      <th>3</th>\n",
              "      <td>circulation_biomarker_diagnosis_down</td>\n",
              "      <td>hsa-mir-145</td>\n",
              "      <td>Colon Neoplasms</td>\n",
              "      <td>16195701</td>\n",
              "      <td>downregulation</td>\n",
              "    </tr>\n",
              "    <tr>\n",
              "      <th>4</th>\n",
              "      <td>circulation_biomarker_diagnosis_down</td>\n",
              "      <td>hsa-mir-223</td>\n",
              "      <td>Leukemia, Lymphocytic, Chronic, B-Cell</td>\n",
              "      <td>16251535</td>\n",
              "      <td>downregulated</td>\n",
              "    </tr>\n",
              "  </tbody>\n",
              "</table>\n",
              "</div>\n",
              "      <button class=\"colab-df-convert\" onclick=\"convertToInteractive('df-2f844215-3524-4648-a7e1-5951b8a528e3')\"\n",
              "              title=\"Convert this dataframe to an interactive table.\"\n",
              "              style=\"display:none;\">\n",
              "        \n",
              "  <svg xmlns=\"http://www.w3.org/2000/svg\" height=\"24px\"viewBox=\"0 0 24 24\"\n",
              "       width=\"24px\">\n",
              "    <path d=\"M0 0h24v24H0V0z\" fill=\"none\"/>\n",
              "    <path d=\"M18.56 5.44l.94 2.06.94-2.06 2.06-.94-2.06-.94-.94-2.06-.94 2.06-2.06.94zm-11 1L8.5 8.5l.94-2.06 2.06-.94-2.06-.94L8.5 2.5l-.94 2.06-2.06.94zm10 10l.94 2.06.94-2.06 2.06-.94-2.06-.94-.94-2.06-.94 2.06-2.06.94z\"/><path d=\"M17.41 7.96l-1.37-1.37c-.4-.4-.92-.59-1.43-.59-.52 0-1.04.2-1.43.59L10.3 9.45l-7.72 7.72c-.78.78-.78 2.05 0 2.83L4 21.41c.39.39.9.59 1.41.59.51 0 1.02-.2 1.41-.59l7.78-7.78 2.81-2.81c.8-.78.8-2.07 0-2.86zM5.41 20L4 18.59l7.72-7.72 1.47 1.35L5.41 20z\"/>\n",
              "  </svg>\n",
              "      </button>\n",
              "      \n",
              "  <style>\n",
              "    .colab-df-container {\n",
              "      display:flex;\n",
              "      flex-wrap:wrap;\n",
              "      gap: 12px;\n",
              "    }\n",
              "\n",
              "    .colab-df-convert {\n",
              "      background-color: #E8F0FE;\n",
              "      border: none;\n",
              "      border-radius: 50%;\n",
              "      cursor: pointer;\n",
              "      display: none;\n",
              "      fill: #1967D2;\n",
              "      height: 32px;\n",
              "      padding: 0 0 0 0;\n",
              "      width: 32px;\n",
              "    }\n",
              "\n",
              "    .colab-df-convert:hover {\n",
              "      background-color: #E2EBFA;\n",
              "      box-shadow: 0px 1px 2px rgba(60, 64, 67, 0.3), 0px 1px 3px 1px rgba(60, 64, 67, 0.15);\n",
              "      fill: #174EA6;\n",
              "    }\n",
              "\n",
              "    [theme=dark] .colab-df-convert {\n",
              "      background-color: #3B4455;\n",
              "      fill: #D2E3FC;\n",
              "    }\n",
              "\n",
              "    [theme=dark] .colab-df-convert:hover {\n",
              "      background-color: #434B5C;\n",
              "      box-shadow: 0px 1px 3px 1px rgba(0, 0, 0, 0.15);\n",
              "      filter: drop-shadow(0px 1px 2px rgba(0, 0, 0, 0.3));\n",
              "      fill: #FFFFFF;\n",
              "    }\n",
              "  </style>\n",
              "\n",
              "      <script>\n",
              "        const buttonEl =\n",
              "          document.querySelector('#df-2f844215-3524-4648-a7e1-5951b8a528e3 button.colab-df-convert');\n",
              "        buttonEl.style.display =\n",
              "          google.colab.kernel.accessAllowed ? 'block' : 'none';\n",
              "\n",
              "        async function convertToInteractive(key) {\n",
              "          const element = document.querySelector('#df-2f844215-3524-4648-a7e1-5951b8a528e3');\n",
              "          const dataTable =\n",
              "            await google.colab.kernel.invokeFunction('convertToInteractive',\n",
              "                                                     [key], {});\n",
              "          if (!dataTable) return;\n",
              "\n",
              "          const docLinkHtml = 'Like what you see? Visit the ' +\n",
              "            '<a target=\"_blank\" href=https://colab.research.google.com/notebooks/data_table.ipynb>data table notebook</a>'\n",
              "            + ' to learn more about interactive tables.';\n",
              "          element.innerHTML = '';\n",
              "          dataTable['output_type'] = 'display_data';\n",
              "          await google.colab.output.renderOutput(dataTable, element);\n",
              "          const docLink = document.createElement('div');\n",
              "          docLink.innerHTML = docLinkHtml;\n",
              "          element.appendChild(docLink);\n",
              "        }\n",
              "      </script>\n",
              "    </div>\n",
              "  </div>\n",
              "  "
            ]
          },
          "metadata": {},
          "execution_count": 5
        }
      ]
    },
    {
      "cell_type": "code",
      "source": [
        "df['mir'] = df['mir'].str.lower()\n",
        "df['disease'] = df['disease'].str.lower()"
      ],
      "metadata": {
        "id": "EJOWAZBFuCXw"
      },
      "execution_count": null,
      "outputs": []
    },
    {
      "cell_type": "code",
      "source": [
        "mirna_array = df['mir'].unique()\n",
        "disease_array = df['disease'].unique()"
      ],
      "metadata": {
        "id": "t1bNavvVrYCS"
      },
      "execution_count": null,
      "outputs": []
    },
    {
      "cell_type": "code",
      "source": [
        "print('miRNA length:  ', len(mirna_array))\n",
        "# print(mirna_array)\n",
        "print('disease length:', len(disease_array))\n",
        "# print(disease_array)"
      ],
      "metadata": {
        "colab": {
          "base_uri": "https://localhost:8080/"
        },
        "id": "D7lVkvO4sB1w",
        "outputId": "a10d05bd-34d2-4b45-b387-4aaac6d434b9"
      },
      "execution_count": null,
      "outputs": [
        {
          "output_type": "stream",
          "name": "stdout",
          "text": [
            "miRNA length:   1206\n",
            "disease length: 894\n"
          ]
        }
      ]
    },
    {
      "cell_type": "code",
      "source": [
        "mirna_array.sort()\n",
        "disease_array.sort()"
      ],
      "metadata": {
        "id": "BZz1T6TztLOQ"
      },
      "execution_count": null,
      "outputs": []
    },
    {
      "cell_type": "code",
      "source": [
        "mirna_to_id = dict()\n",
        "idx = 0\n",
        "for x in mirna_array:\n",
        "  mirna_to_id[x] = idx\n",
        "  idx += 1\n",
        "\n",
        "disease_to_id = dict()\n",
        "idx = 0\n",
        "for x in disease_array:\n",
        "  disease_to_id[x] = idx\n",
        "  idx += 1"
      ],
      "metadata": {
        "id": "-7Tl5cXysuSP"
      },
      "execution_count": null,
      "outputs": []
    },
    {
      "cell_type": "code",
      "source": [
        "print(mirna_to_id)"
      ],
      "metadata": {
        "colab": {
          "base_uri": "https://localhost:8080/"
        },
        "id": "H7nYDQH7tFXk",
        "outputId": "baf42a80-051d-4a05-ea49-0e272af1f976"
      },
      "execution_count": null,
      "outputs": [
        {
          "output_type": "stream",
          "name": "stdout",
          "text": [
            "{'hsa-let-7': 0, 'hsa-let-7a': 1, 'hsa-let-7a-1': 2, 'hsa-let-7a-2': 3, 'hsa-let-7a-3': 4, 'hsa-let-7b': 5, 'hsa-let-7c': 6, 'hsa-let-7d': 7, 'hsa-let-7e': 8, 'hsa-let-7f': 9, 'hsa-let-7f-1': 10, 'hsa-let-7f-2': 11, 'hsa-let-7g': 12, 'hsa-let-7i': 13, 'hsa-mir-1': 14, 'hsa-mir-1-1': 15, 'hsa-mir-1-2': 16, 'hsa-mir-10': 17, 'hsa-mir-100': 18, 'hsa-mir-101': 19, 'hsa-mir-101-1': 20, 'hsa-mir-101-2': 21, 'hsa-mir-101a': 22, 'hsa-mir-103': 23, 'hsa-mir-103-1': 24, 'hsa-mir-103-2': 25, 'hsa-mir-103a': 26, 'hsa-mir-103a-1': 27, 'hsa-mir-103a-2': 28, 'hsa-mir-103b': 29, 'hsa-mir-103b-1': 30, 'hsa-mir-103b-2': 31, 'hsa-mir-105': 32, 'hsa-mir-105-1': 33, 'hsa-mir-105-2': 34, 'hsa-mir-106': 35, 'hsa-mir-106a': 36, 'hsa-mir-106b': 37, 'hsa-mir-107': 38, 'hsa-mir-10a': 39, 'hsa-mir-10b': 40, 'hsa-mir-112': 41, 'hsa-mir-1165': 42, 'hsa-mir-1178': 43, 'hsa-mir-1179': 44, 'hsa-mir-1180': 45, 'hsa-mir-1181': 46, 'hsa-mir-1182': 47, 'hsa-mir-1183': 48, 'hsa-mir-1184': 49, 'hsa-mir-1184-1': 50, 'hsa-mir-1185': 51, 'hsa-mir-1185-1': 52, 'hsa-mir-12': 53, 'hsa-mir-120': 54, 'hsa-mir-1201': 55, 'hsa-mir-1202': 56, 'hsa-mir-1203': 57, 'hsa-mir-1204': 58, 'hsa-mir-1206': 59, 'hsa-mir-1207': 60, 'hsa-mir-122': 61, 'hsa-mir-1224': 62, 'hsa-mir-1225': 63, 'hsa-mir-1226': 64, 'hsa-mir-1227': 65, 'hsa-mir-1228': 66, 'hsa-mir-1229': 67, 'hsa-mir-122a': 68, 'hsa-mir-1231': 69, 'hsa-mir-1233': 70, 'hsa-mir-1233-1': 71, 'hsa-mir-1233-2': 72, 'hsa-mir-1234': 73, 'hsa-mir-1236': 74, 'hsa-mir-1237': 75, 'hsa-mir-1238': 76, 'hsa-mir-124': 77, 'hsa-mir-124-1': 78, 'hsa-mir-124-2': 79, 'hsa-mir-124-3': 80, 'hsa-mir-1244': 81, 'hsa-mir-1245': 82, 'hsa-mir-1245a': 83, 'hsa-mir-1245b': 84, 'hsa-mir-1246': 85, 'hsa-mir-1247': 86, 'hsa-mir-1248': 87, 'hsa-mir-1249': 88, 'hsa-mir-124a': 89, 'hsa-mir-124a-1': 90, 'hsa-mir-124a-2': 91, 'hsa-mir-124a-3': 92, 'hsa-mir-125': 93, 'hsa-mir-1252': 94, 'hsa-mir-1253': 95, 'hsa-mir-1254': 96, 'hsa-mir-1254-1': 97, 'hsa-mir-1255a': 98, 'hsa-mir-1256': 99, 'hsa-mir-1258': 100, 'hsa-mir-125a': 101, 'hsa-mir-125b': 102, 'hsa-mir-125b-1': 103, 'hsa-mir-125b-2': 104, 'hsa-mir-126': 105, 'hsa-mir-1260': 106, 'hsa-mir-1260a': 107, 'hsa-mir-1260b': 108, 'hsa-mir-1261': 109, 'hsa-mir-1264': 110, 'hsa-mir-1265': 111, 'hsa-mir-1266': 112, 'hsa-mir-1267': 113, 'hsa-mir-1268': 114, 'hsa-mir-1268a': 115, 'hsa-mir-1268b': 116, 'hsa-mir-1269': 117, 'hsa-mir-1269a': 118, 'hsa-mir-1269b': 119, 'hsa-mir-126a': 120, 'hsa-mir-127': 121, 'hsa-mir-1270': 122, 'hsa-mir-1271': 123, 'hsa-mir-1273': 124, 'hsa-mir-1273a': 125, 'hsa-mir-1273c': 126, 'hsa-mir-1273d': 127, 'hsa-mir-1273g': 128, 'hsa-mir-1274a': 129, 'hsa-mir-1274b': 130, 'hsa-mir-1275': 131, 'hsa-mir-1276': 132, 'hsa-mir-1277': 133, 'hsa-mir-128': 134, 'hsa-mir-128-1': 135, 'hsa-mir-128-2': 136, 'hsa-mir-1280': 137, 'hsa-mir-1281': 138, 'hsa-mir-1282': 139, 'hsa-mir-1283': 140, 'hsa-mir-1284': 141, 'hsa-mir-1285': 142, 'hsa-mir-1285-1': 143, 'hsa-mir-1285-2': 144, 'hsa-mir-1286': 145, 'hsa-mir-1287': 146, 'hsa-mir-1288': 147, 'hsa-mir-128a': 148, 'hsa-mir-128b': 149, 'hsa-mir-129': 150, 'hsa-mir-129-1': 151, 'hsa-mir-129-2': 152, 'hsa-mir-1290': 153, 'hsa-mir-1291': 154, 'hsa-mir-1292': 155, 'hsa-mir-1293': 156, 'hsa-mir-1294': 157, 'hsa-mir-1295': 158, 'hsa-mir-1295a': 159, 'hsa-mir-1295b': 160, 'hsa-mir-1296': 161, 'hsa-mir-1297': 162, 'hsa-mir-1298': 163, 'hsa-mir-1299': 164, 'hsa-mir-129b': 165, 'hsa-mir-130': 166, 'hsa-mir-1300': 167, 'hsa-mir-1301': 168, 'hsa-mir-1302': 169, 'hsa-mir-1302-1': 170, 'hsa-mir-1302-2': 171, 'hsa-mir-1302-3': 172, 'hsa-mir-1302-4': 173, 'hsa-mir-1302-5': 174, 'hsa-mir-1302-6': 175, 'hsa-mir-1302-7': 176, 'hsa-mir-1302-8': 177, 'hsa-mir-1303': 178, 'hsa-mir-1304': 179, 'hsa-mir-1305': 180, 'hsa-mir-1306': 181, 'hsa-mir-1307': 182, 'hsa-mir-1308': 183, 'hsa-mir-130a': 184, 'hsa-mir-130b': 185, 'hsa-mir-132': 186, 'hsa-mir-1321': 187, 'hsa-mir-1322': 188, 'hsa-mir-1323': 189, 'hsa-mir-1324': 190, 'hsa-mir-133': 191, 'hsa-mir-133a': 192, 'hsa-mir-133a-1': 193, 'hsa-mir-133a-2': 194, 'hsa-mir-133b': 195, 'hsa-mir-134': 196, 'hsa-mir-1343': 197, 'hsa-mir-135': 198, 'hsa-mir-135a': 199, 'hsa-mir-135a-1': 200, 'hsa-mir-135a-2': 201, 'hsa-mir-135b': 202, 'hsa-mir-136': 203, 'hsa-mir-137': 204, 'hsa-mir-138': 205, 'hsa-mir-138-1': 206, 'hsa-mir-138-2': 207, 'hsa-mir-139': 208, 'hsa-mir-140': 209, 'hsa-mir-141': 210, 'hsa-mir-142': 211, 'hsa-mir-142a': 212, 'hsa-mir-143': 213, 'hsa-mir-144': 214, 'hsa-mir-145': 215, 'hsa-mir-145a': 216, 'hsa-mir-146': 217, 'hsa-mir-1468': 218, 'hsa-mir-1469': 219, 'hsa-mir-146a': 220, 'hsa-mir-146b': 221, 'hsa-mir-147': 222, 'hsa-mir-1471': 223, 'hsa-mir-147a': 224, 'hsa-mir-147b': 225, 'hsa-mir-148': 226, 'hsa-mir-148a': 227, 'hsa-mir-148b': 228, 'hsa-mir-149': 229, 'hsa-mir-15': 230, 'hsa-mir-150': 231, 'hsa-mir-151': 232, 'hsa-mir-151a': 233, 'hsa-mir-151b': 234, 'hsa-mir-152': 235, 'hsa-mir-153': 236, 'hsa-mir-153-1': 237, 'hsa-mir-153-2': 238, 'hsa-mir-1538': 239, 'hsa-mir-154': 240, 'hsa-mir-155': 241, 'hsa-mir-156a': 242, 'hsa-mir-157': 243, 'hsa-mir-15a': 244, 'hsa-mir-15b': 245, 'hsa-mir-16': 246, 'hsa-mir-16-1': 247, 'hsa-mir-16-2': 248, 'hsa-mir-160': 249, 'hsa-mir-161': 250, 'hsa-mir-168': 251, 'hsa-mir-17': 252, 'hsa-mir-18': 253, 'hsa-mir-181': 254, 'hsa-mir-181-2': 255, 'hsa-mir-181a': 256, 'hsa-mir-181a-1': 257, 'hsa-mir-181a-2': 258, 'hsa-mir-181b': 259, 'hsa-mir-181b-1': 260, 'hsa-mir-181b-2': 261, 'hsa-mir-181c': 262, 'hsa-mir-181d': 263, 'hsa-mir-182': 264, 'hsa-mir-1825': 265, 'hsa-mir-1826': 266, 'hsa-mir-1827': 267, 'hsa-mir-183': 268, 'hsa-mir-184': 269, 'hsa-mir-1843': 270, 'hsa-mir-185': 271, 'hsa-mir-186': 272, 'hsa-mir-187': 273, 'hsa-mir-188': 274, 'hsa-mir-189': 275, 'hsa-mir-1896': 276, 'hsa-mir-1897': 277, 'hsa-mir-18a': 278, 'hsa-mir-18b': 279, 'hsa-mir-19': 280, 'hsa-mir-190': 281, 'hsa-mir-1908': 282, 'hsa-mir-1909': 283, 'hsa-mir-190a': 284, 'hsa-mir-190b': 285, 'hsa-mir-191': 286, 'hsa-mir-1910': 287, 'hsa-mir-1914': 288, 'hsa-mir-1915': 289, 'hsa-mir-191a': 290, 'hsa-mir-192': 291, 'hsa-mir-192-2': 292, 'hsa-mir-192a': 293, 'hsa-mir-193': 294, 'hsa-mir-193a': 295, 'hsa-mir-193b': 296, 'hsa-mir-194': 297, 'hsa-mir-194-1': 298, 'hsa-mir-194-2': 299, 'hsa-mir-195': 300, 'hsa-mir-196': 301, 'hsa-mir-196a': 302, 'hsa-mir-196a-1': 303, 'hsa-mir-196a-2': 304, 'hsa-mir-196b': 305, 'hsa-mir-197': 306, 'hsa-mir-1972': 307, 'hsa-mir-1972-1': 308, 'hsa-mir-1973': 309, 'hsa-mir-1974': 310, 'hsa-mir-1976': 311, 'hsa-mir-198': 312, 'hsa-mir-199': 313, 'hsa-mir-199a': 314, 'hsa-mir-199a-1': 315, 'hsa-mir-199a-2': 316, 'hsa-mir-199b': 317, 'hsa-mir-19a': 318, 'hsa-mir-19b': 319, 'hsa-mir-19b-1': 320, 'hsa-mir-19b-2': 321, 'hsa-mir-20': 322, 'hsa-mir-200': 323, 'hsa-mir-200a': 324, 'hsa-mir-200b': 325, 'hsa-mir-200c': 326, 'hsa-mir-202': 327, 'hsa-mir-203': 328, 'hsa-mir-203a': 329, 'hsa-mir-203b': 330, 'hsa-mir-204': 331, 'hsa-mir-205': 332, 'hsa-mir-206': 333, 'hsa-mir-208': 334, 'hsa-mir-208a': 335, 'hsa-mir-208b': 336, 'hsa-mir-209': 337, 'hsa-mir-20a': 338, 'hsa-mir-20b': 339, 'hsa-mir-21': 340, 'hsa-mir-210': 341, 'hsa-mir-211': 342, 'hsa-mir-2110': 343, 'hsa-mir-2113': 344, 'hsa-mir-2116': 345, 'hsa-mir-212': 346, 'hsa-mir-214': 347, 'hsa-mir-215': 348, 'hsa-mir-216': 349, 'hsa-mir-2166': 350, 'hsa-mir-216a': 351, 'hsa-mir-216b': 352, 'hsa-mir-217': 353, 'hsa-mir-218': 354, 'hsa-mir-218-1': 355, 'hsa-mir-218-2': 356, 'hsa-mir-218a': 357, 'hsa-mir-219': 358, 'hsa-mir-219-1': 359, 'hsa-mir-219-2': 360, 'hsa-mir-219a': 361, 'hsa-mir-21a': 362, 'hsa-mir-21b': 363, 'hsa-mir-22': 364, 'hsa-mir-220a': 365, 'hsa-mir-221': 366, 'hsa-mir-222': 367, 'hsa-mir-223': 368, 'hsa-mir-223a': 369, 'hsa-mir-224': 370, 'hsa-mir-2278': 371, 'hsa-mir-23': 372, 'hsa-mir-2355': 373, 'hsa-mir-2392': 374, 'hsa-mir-23a': 375, 'hsa-mir-23b': 376, 'hsa-mir-23c': 377, 'hsa-mir-24': 378, 'hsa-mir-24-1': 379, 'hsa-mir-24-2': 380, 'hsa-mir-25': 381, 'hsa-mir-26': 382, 'hsa-mir-2682': 383, 'hsa-mir-26a': 384, 'hsa-mir-26a-1': 385, 'hsa-mir-26a-2': 386, 'hsa-mir-26b': 387, 'hsa-mir-27': 388, 'hsa-mir-27a': 389, 'hsa-mir-27b': 390, 'hsa-mir-28': 391, 'hsa-mir-2861': 392, 'hsa-mir-29': 393, 'hsa-mir-2909': 394, 'hsa-mir-294': 395, 'hsa-mir-296': 396, 'hsa-mir-297': 397, 'hsa-mir-298': 398, 'hsa-mir-299': 399, 'hsa-mir-299a': 400, 'hsa-mir-29a': 401, 'hsa-mir-29b': 402, 'hsa-mir-29b-1': 403, 'hsa-mir-29b-2': 404, 'hsa-mir-29c': 405, 'hsa-mir-3': 406, 'hsa-mir-30': 407, 'hsa-mir-300': 408, 'hsa-mir-3007a': 409, 'hsa-mir-301': 410, 'hsa-mir-301a': 411, 'hsa-mir-301b': 412, 'hsa-mir-302': 413, 'hsa-mir-302a': 414, 'hsa-mir-302b': 415, 'hsa-mir-302c': 416, 'hsa-mir-302d': 417, 'hsa-mir-302e': 418, 'hsa-mir-302f': 419, 'hsa-mir-3065': 420, 'hsa-mir-3074': 421, 'hsa-mir-3098': 422, 'hsa-mir-30a': 423, 'hsa-mir-30b': 424, 'hsa-mir-30c': 425, 'hsa-mir-30c-1': 426, 'hsa-mir-30c-2': 427, 'hsa-mir-30d': 428, 'hsa-mir-30e': 429, 'hsa-mir-31': 430, 'hsa-mir-3117': 431, 'hsa-mir-3120': 432, 'hsa-mir-3126': 433, 'hsa-mir-3127': 434, 'hsa-mir-3130': 435, 'hsa-mir-3130-1': 436, 'hsa-mir-3130-2': 437, 'hsa-mir-3131': 438, 'hsa-mir-3135b': 439, 'hsa-mir-3138': 440, 'hsa-mir-3142': 441, 'hsa-mir-3144': 442, 'hsa-mir-3146': 443, 'hsa-mir-3147': 444, 'hsa-mir-3148': 445, 'hsa-mir-3149': 446, 'hsa-mir-315': 447, 'hsa-mir-3151': 448, 'hsa-mir-3156': 449, 'hsa-mir-3157': 450, 'hsa-mir-3158': 451, 'hsa-mir-3160': 452, 'hsa-mir-3161': 453, 'hsa-mir-3162': 454, 'hsa-mir-3163': 455, 'hsa-mir-3170': 456, 'hsa-mir-3171': 457, 'hsa-mir-3172': 458, 'hsa-mir-3175': 459, 'hsa-mir-3176': 460, 'hsa-mir-3177': 461, 'hsa-mir-3178': 462, 'hsa-mir-3179-1': 463, 'hsa-mir-3179-2': 464, 'hsa-mir-3179-3': 465, 'hsa-mir-3182': 466, 'hsa-mir-3185': 467, 'hsa-mir-3186': 468, 'hsa-mir-3188': 469, 'hsa-mir-3189': 470, 'hsa-mir-3195': 471, 'hsa-mir-3196': 472, 'hsa-mir-3198': 473, 'hsa-mir-31a': 474, 'hsa-mir-32': 475, 'hsa-mir-320': 476, 'hsa-mir-3200': 477, 'hsa-mir-3201': 478, 'hsa-mir-320a': 479, 'hsa-mir-320b': 480, 'hsa-mir-320b-1': 481, 'hsa-mir-320b-2': 482, 'hsa-mir-320c': 483, 'hsa-mir-320c-1': 484, 'hsa-mir-320c-2': 485, 'hsa-mir-320d': 486, 'hsa-mir-320d-1': 487, 'hsa-mir-320d-2': 488, 'hsa-mir-320e': 489, 'hsa-mir-322': 490, 'hsa-mir-323': 491, 'hsa-mir-323a': 492, 'hsa-mir-323b': 493, 'hsa-mir-324': 494, 'hsa-mir-325': 495, 'hsa-mir-326': 496, 'hsa-mir-326b': 497, 'hsa-mir-327': 498, 'hsa-mir-328': 499, 'hsa-mir-329': 500, 'hsa-mir-329-1': 501, 'hsa-mir-329-2': 502, 'hsa-mir-33': 503, 'hsa-mir-330': 504, 'hsa-mir-331': 505, 'hsa-mir-335': 506, 'hsa-mir-336': 507, 'hsa-mir-337': 508, 'hsa-mir-338': 509, 'hsa-mir-339': 510, 'hsa-mir-33a': 511, 'hsa-mir-33b': 512, 'hsa-mir-34': 513, 'hsa-mir-340': 514, 'hsa-mir-342': 515, 'hsa-mir-345': 516, 'hsa-mir-346': 517, 'hsa-mir-34a': 518, 'hsa-mir-34b': 519, 'hsa-mir-34c': 520, 'hsa-mir-35': 521, 'hsa-mir-350': 522, 'hsa-mir-351': 523, 'hsa-mir-352': 524, 'hsa-mir-3546': 525, 'hsa-mir-355': 526, 'hsa-mir-355p': 527, 'hsa-mir-3560': 528, 'hsa-mir-3588': 529, 'hsa-mir-3591': 530, 'hsa-mir-3607': 531, 'hsa-mir-361': 532, 'hsa-mir-3610': 533, 'hsa-mir-3611': 534, 'hsa-mir-3613': 535, 'hsa-mir-3614': 536, 'hsa-mir-3619': 537, 'hsa-mir-362': 538, 'hsa-mir-3620': 539, 'hsa-mir-3622a': 540, 'hsa-mir-3622b': 541, 'hsa-mir-363': 542, 'hsa-mir-3646': 543, 'hsa-mir-3648': 544, 'hsa-mir-3649': 545, 'hsa-mir-365': 546, 'hsa-mir-365-1': 547, 'hsa-mir-365-2': 548, 'hsa-mir-3651': 549, 'hsa-mir-3653': 550, 'hsa-mir-3654': 551, 'hsa-mir-3656': 552, 'hsa-mir-3658': 553, 'hsa-mir-365a': 554, 'hsa-mir-365b': 555, 'hsa-mir-3662': 556, 'hsa-mir-3663': 557, 'hsa-mir-3664': 558, 'hsa-mir-3666': 559, 'hsa-mir-3667': 560, 'hsa-mir-367': 561, 'hsa-mir-3673': 562, 'hsa-mir-3676': 563, 'hsa-mir-3677': 564, 'hsa-mir-367a': 565, 'hsa-mir-3682': 566, 'hsa-mir-3686': 567, 'hsa-mir-3687': 568, 'hsa-mir-3689d': 569, 'hsa-mir-369': 570, 'hsa-mir-370': 571, 'hsa-mir-370a': 572, 'hsa-mir-371': 573, 'hsa-mir-3714': 574, 'hsa-mir-371a': 575, 'hsa-mir-371b': 576, 'hsa-mir-372': 577, 'hsa-mir-373': 578, 'hsa-mir-374': 579, 'hsa-mir-374a': 580, 'hsa-mir-374b': 581, 'hsa-mir-374c': 582, 'hsa-mir-375': 583, 'hsa-mir-376': 584, 'hsa-mir-376a': 585, 'hsa-mir-376a-1': 586, 'hsa-mir-376a-2': 587, 'hsa-mir-376b': 588, 'hsa-mir-376c': 589, 'hsa-mir-377': 590, 'hsa-mir-378': 591, 'hsa-mir-378a': 592, 'hsa-mir-378b': 593, 'hsa-mir-378c': 594, 'hsa-mir-378d': 595, 'hsa-mir-378d-1': 596, 'hsa-mir-378d-2': 597, 'hsa-mir-378e': 598, 'hsa-mir-378f': 599, 'hsa-mir-378g': 600, 'hsa-mir-378h': 601, 'hsa-mir-378i': 602, 'hsa-mir-379': 603, 'hsa-mir-380': 604, 'hsa-mir-381': 605, 'hsa-mir-382': 606, 'hsa-mir-383': 607, 'hsa-mir-384': 608, 'hsa-mir-388': 609, 'hsa-mir-3908': 610, 'hsa-mir-3909': 611, 'hsa-mir-3913': 612, 'hsa-mir-3915': 613, 'hsa-mir-3916': 614, 'hsa-mir-3923': 615, 'hsa-mir-3924': 616, 'hsa-mir-3925': 617, 'hsa-mir-3926': 618, 'hsa-mir-3928': 619, 'hsa-mir-3940': 620, 'hsa-mir-3941': 621, 'hsa-mir-3945': 622, 'hsa-mir-3960': 623, 'hsa-mir-3976': 624, 'hsa-mir-409': 625, 'hsa-mir-410': 626, 'hsa-mir-411': 627, 'hsa-mir-412': 628, 'hsa-mir-421': 629, 'hsa-mir-422a': 630, 'hsa-mir-422b': 631, 'hsa-mir-423': 632, 'hsa-mir-423-5p': 633, 'hsa-mir-424': 634, 'hsa-mir-425': 635, 'hsa-mir-4257': 636, 'hsa-mir-4258': 637, 'hsa-mir-4262': 638, 'hsa-mir-4268': 639, 'hsa-mir-4270': 640, 'hsa-mir-4271': 641, 'hsa-mir-4274': 642, 'hsa-mir-4279': 643, 'hsa-mir-4281': 644, 'hsa-mir-4282': 645, 'hsa-mir-4284': 646, 'hsa-mir-4286': 647, 'hsa-mir-429': 648, 'hsa-mir-4290': 649, 'hsa-mir-4291': 650, 'hsa-mir-4293': 651, 'hsa-mir-4294': 652, 'hsa-mir-4295': 653, 'hsa-mir-4298': 654, 'hsa-mir-4301': 655, 'hsa-mir-4302': 656, 'hsa-mir-4306': 657, 'hsa-mir-431': 658, 'hsa-mir-4310': 659, 'hsa-mir-4317': 660, 'hsa-mir-4319': 661, 'hsa-mir-432': 662, 'hsa-mir-4324': 663, 'hsa-mir-4326': 664, 'hsa-mir-433': 665, 'hsa-mir-43c': 666, 'hsa-mir-4417': 667, 'hsa-mir-4419b': 668, 'hsa-mir-4423': 669, 'hsa-mir-4429': 670, 'hsa-mir-4436b-1': 671, 'hsa-mir-4436b-2': 672, 'hsa-mir-4443': 673, 'hsa-mir-4446': 674, 'hsa-mir-4447': 675, 'hsa-mir-4448': 676, 'hsa-mir-4449': 677, 'hsa-mir-4454': 678, 'hsa-mir-4455': 679, 'hsa-mir-4458': 680, 'hsa-mir-4463': 681, 'hsa-mir-4465': 682, 'hsa-mir-4466': 683, 'hsa-mir-4467': 684, 'hsa-mir-4469': 685, 'hsa-mir-4476': 686, 'hsa-mir-4478': 687, 'hsa-mir-448': 688, 'hsa-mir-4480': 689, 'hsa-mir-4484': 690, 'hsa-mir-4487': 691, 'hsa-mir-4488': 692, 'hsa-mir-4489': 693, 'hsa-mir-449': 694, 'hsa-mir-4490': 695, 'hsa-mir-4496': 696, 'hsa-mir-4497': 697, 'hsa-mir-449a': 698, 'hsa-mir-449b': 699, 'hsa-mir-449c': 700, 'hsa-mir-450': 701, 'hsa-mir-4500': 702, 'hsa-mir-4501': 703, 'hsa-mir-4505': 704, 'hsa-mir-4507': 705, 'hsa-mir-4508': 706, 'hsa-mir-450a': 707, 'hsa-mir-450a-1': 708, 'hsa-mir-450a-2': 709, 'hsa-mir-450b': 710, 'hsa-mir-451': 711, 'hsa-mir-4510': 712, 'hsa-mir-4511': 713, 'hsa-mir-4513': 714, 'hsa-mir-4516': 715, 'hsa-mir-4518': 716, 'hsa-mir-451a': 717, 'hsa-mir-451b': 718, 'hsa-mir-452': 719, 'hsa-mir-4521': 720, 'hsa-mir-453': 721, 'hsa-mir-4530': 722, 'hsa-mir-4531': 723, 'hsa-mir-4532': 724, 'hsa-mir-4534': 725, 'hsa-mir-454': 726, 'hsa-mir-455': 727, 'hsa-mir-462a': 728, 'hsa-mir-463': 729, 'hsa-mir-4633': 730, 'hsa-mir-4634': 731, 'hsa-mir-4639': 732, 'hsa-mir-4644': 733, 'hsa-mir-4648': 734, 'hsa-mir-4649': 735, 'hsa-mir-4650': 736, 'hsa-mir-4656': 737, 'hsa-mir-466': 738, 'hsa-mir-4661': 739, 'hsa-mir-4664': 740, 'hsa-mir-4666a': 741, 'hsa-mir-466b': 742, 'hsa-mir-467': 743, 'hsa-mir-4672': 744, 'hsa-mir-467a': 745, 'hsa-mir-467d': 746, 'hsa-mir-4687': 747, 'hsa-mir-4695': 748, 'hsa-mir-4697': 749, 'hsa-mir-4701': 750, 'hsa-mir-4706': 751, 'hsa-mir-4709': 752, 'hsa-mir-471': 753, 'hsa-mir-4717': 754, 'hsa-mir-4721': 755, 'hsa-mir-4723': 756, 'hsa-mir-4726': 757, 'hsa-mir-4728': 758, 'hsa-mir-4731': 759, 'hsa-mir-4732': 760, 'hsa-mir-4736': 761, 'hsa-mir-4739': 762, 'hsa-mir-4742': 763, 'hsa-mir-4746': 764, 'hsa-mir-4753': 765, 'hsa-mir-4756': 766, 'hsa-mir-4758': 767, 'hsa-mir-4764': 768, 'hsa-mir-4765': 769, 'hsa-mir-4770': 770, 'hsa-mir-4772': 771, 'hsa-mir-4775': 772, 'hsa-mir-4778': 773, 'hsa-mir-4782': 774, 'hsa-mir-4784': 775, 'hsa-mir-4787': 776, 'hsa-mir-4792': 777, 'hsa-mir-4793': 778, 'hsa-mir-4795': 779, 'hsa-mir-483': 780, 'hsa-mir-484': 781, 'hsa-mir-485': 782, 'hsa-mir-486': 783, 'hsa-mir-487a': 784, 'hsa-mir-487b': 785, 'hsa-mir-488': 786, 'hsa-mir-489': 787, 'hsa-mir-490': 788, 'hsa-mir-491': 789, 'hsa-mir-492': 790, 'hsa-mir-493': 791, 'hsa-mir-494': 792, 'hsa-mir-495': 793, 'hsa-mir-496': 794, 'hsa-mir-497': 795, 'hsa-mir-498': 796, 'hsa-mir-499': 797, 'hsa-mir-499a': 798, 'hsa-mir-499b': 799, 'hsa-mir-500': 800, 'hsa-mir-5000': 801, 'hsa-mir-5003': 802, 'hsa-mir-5004': 803, 'hsa-mir-5009': 804, 'hsa-mir-500a': 805, 'hsa-mir-500b': 806, 'hsa-mir-501': 807, 'hsa-mir-5010': 808, 'hsa-mir-502': 809, 'hsa-mir-503': 810, 'hsa-mir-504': 811, 'hsa-mir-505': 812, 'hsa-mir-506': 813, 'hsa-mir-507': 814, 'hsa-mir-508': 815, 'hsa-mir-509': 816, 'hsa-mir-509-1': 817, 'hsa-mir-509-2': 818, 'hsa-mir-509-3': 819, 'hsa-mir-5091': 820, 'hsa-mir-5095': 821, 'hsa-mir-5096': 822, 'hsa-mir-510': 823, 'hsa-mir-5100': 824, 'hsa-mir-511': 825, 'hsa-mir-512': 826, 'hsa-mir-512-1': 827, 'hsa-mir-512-2': 828, 'hsa-mir-513': 829, 'hsa-mir-513a': 830, 'hsa-mir-513a-1': 831, 'hsa-mir-513a-2': 832, 'hsa-mir-513b': 833, 'hsa-mir-513c': 834, 'hsa-mir-514': 835, 'hsa-mir-514a': 836, 'hsa-mir-514a-1': 837, 'hsa-mir-514a-2': 838, 'hsa-mir-514a-3': 839, 'hsa-mir-514b': 840, 'hsa-mir-515': 841, 'hsa-mir-515-1': 842, 'hsa-mir-515-2': 843, 'hsa-mir-516': 844, 'hsa-mir-516a': 845, 'hsa-mir-516a-1': 846, 'hsa-mir-516a-2': 847, 'hsa-mir-516b': 848, 'hsa-mir-516b-1': 849, 'hsa-mir-516b-2': 850, 'hsa-mir-517': 851, 'hsa-mir-517a': 852, 'hsa-mir-517b': 853, 'hsa-mir-517c': 854, 'hsa-mir-518': 855, 'hsa-mir-5187': 856, 'hsa-mir-5189': 857, 'hsa-mir-518a': 858, 'hsa-mir-518a-1': 859, 'hsa-mir-518a-2': 860, 'hsa-mir-518b': 861, 'hsa-mir-518c': 862, 'hsa-mir-518d': 863, 'hsa-mir-518e': 864, 'hsa-mir-518f': 865, 'hsa-mir-519': 866, 'hsa-mir-5193': 867, 'hsa-mir-519a': 868, 'hsa-mir-519a-1': 869, 'hsa-mir-519a-2': 870, 'hsa-mir-519b': 871, 'hsa-mir-519c': 872, 'hsa-mir-519d': 873, 'hsa-mir-519e': 874, 'hsa-mir-520': 875, 'hsa-mir-520a': 876, 'hsa-mir-520b': 877, 'hsa-mir-520c': 878, 'hsa-mir-520d': 879, 'hsa-mir-520e': 880, 'hsa-mir-520f': 881, 'hsa-mir-520g': 882, 'hsa-mir-520h': 883, 'hsa-mir-521': 884, 'hsa-mir-521-1': 885, 'hsa-mir-521-2': 886, 'hsa-mir-522': 887, 'hsa-mir-523': 888, 'hsa-mir-524': 889, 'hsa-mir-525': 890, 'hsa-mir-526a': 891, 'hsa-mir-526a-1': 892, 'hsa-mir-526a-2': 893, 'hsa-mir-526b': 894, 'hsa-mir-527': 895, 'hsa-mir-528a': 896, 'hsa-mir-532': 897, 'hsa-mir-5338': 898, 'hsa-mir-539': 899, 'hsa-mir-541': 900, 'hsa-mir-542': 901, 'hsa-mir-543': 902, 'hsa-mir-544': 903, 'hsa-mir-544a': 904, 'hsa-mir-544b': 905, 'hsa-mir-545': 906, 'hsa-mir-547': 907, 'hsa-mir-548': 908, 'hsa-mir-5481': 909, 'hsa-mir-548a': 910, 'hsa-mir-548a-1': 911, 'hsa-mir-548a-2': 912, 'hsa-mir-548a-3': 913, 'hsa-mir-548ac': 914, 'hsa-mir-548am': 915, 'hsa-mir-548an': 916, 'hsa-mir-548b': 917, 'hsa-mir-548c': 918, 'hsa-mir-548d': 919, 'hsa-mir-548d-1': 920, 'hsa-mir-548d-2': 921, 'hsa-mir-548e': 922, 'hsa-mir-548f': 923, 'hsa-mir-548i': 924, 'hsa-mir-548j': 925, 'hsa-mir-548k': 926, 'hsa-mir-548l': 927, 'hsa-mir-548p': 928, 'hsa-mir-548q': 929, 'hsa-mir-548t': 930, 'hsa-mir-549': 931, 'hsa-mir-550': 932, 'hsa-mir-550a': 933, 'hsa-mir-550a-1': 934, 'hsa-mir-550a-2': 935, 'hsa-mir-550a-3': 936, 'hsa-mir-550b-1': 937, 'hsa-mir-550b-2': 938, 'hsa-mir-551': 939, 'hsa-mir-551a': 940, 'hsa-mir-551b': 941, 'hsa-mir-552': 942, 'hsa-mir-555': 943, 'hsa-mir-556': 944, 'hsa-mir-557': 945, 'hsa-mir-558': 946, 'hsa-mir-5582': 947, 'hsa-mir-5584': 948, 'hsa-mir-5586': 949, 'hsa-mir-5590': 950, 'hsa-mir-561': 951, 'hsa-mir-562': 952, 'hsa-mir-563': 953, 'hsa-mir-564': 954, 'hsa-mir-565': 955, 'hsa-mir-566': 956, 'hsa-mir-567': 957, 'hsa-mir-568': 958, 'hsa-mir-569': 959, 'hsa-mir-5692b': 960, 'hsa-mir-5699': 961, 'hsa-mir-570': 962, 'hsa-mir-571': 963, 'hsa-mir-572': 964, 'hsa-mir-573': 965, 'hsa-mir-574': 966, 'hsa-mir-575': 967, 'hsa-mir-576': 968, 'hsa-mir-577': 969, 'hsa-mir-578': 970, 'hsa-mir-579': 971, 'hsa-mir-581': 972, 'hsa-mir-582': 973, 'hsa-mir-583': 974, 'hsa-mir-584': 975, 'hsa-mir-585': 976, 'hsa-mir-586': 977, 'hsa-mir-587': 978, 'hsa-mir-588': 979, 'hsa-mir-589': 980, 'hsa-mir-590': 981, 'hsa-mir-591': 982, 'hsa-mir-592': 983, 'hsa-mir-593': 984, 'hsa-mir-595': 985, 'hsa-mir-596': 986, 'hsa-mir-597': 987, 'hsa-mir-598': 988, 'hsa-mir-599': 989, 'hsa-mir-600': 990, 'hsa-mir-601': 991, 'hsa-mir-602': 992, 'hsa-mir-603': 993, 'hsa-mir-604': 994, 'hsa-mir-605': 995, 'hsa-mir-606': 996, 'hsa-mir-6068': 997, 'hsa-mir-6069': 998, 'hsa-mir-6075': 999, 'hsa-mir-608': 1000, 'hsa-mir-6086': 1001, 'hsa-mir-6087': 1002, 'hsa-mir-6088': 1003, 'hsa-mir-6089': 1004, 'hsa-mir-610': 1005, 'hsa-mir-611': 1006, 'hsa-mir-612': 1007, 'hsa-mir-6124': 1008, 'hsa-mir-6126': 1009, 'hsa-mir-613': 1010, 'hsa-mir-6133': 1011, 'hsa-mir-614': 1012, 'hsa-mir-615': 1013, 'hsa-mir-616': 1014, 'hsa-mir-617': 1015, 'hsa-mir-618': 1016, 'hsa-mir-619': 1017, 'hsa-mir-620': 1018, 'hsa-mir-621': 1019, 'hsa-mir-622': 1020, 'hsa-mir-623': 1021, 'hsa-mir-624': 1022, 'hsa-mir-625': 1023, 'hsa-mir-626': 1024, 'hsa-mir-627': 1025, 'hsa-mir-628': 1026, 'hsa-mir-629': 1027, 'hsa-mir-630': 1028, 'hsa-mir-631': 1029, 'hsa-mir-6315': 1030, 'hsa-mir-632': 1031, 'hsa-mir-633': 1032, 'hsa-mir-633b': 1033, 'hsa-mir-634': 1034, 'hsa-mir-635': 1035, 'hsa-mir-636': 1036, 'hsa-mir-637': 1037, 'hsa-mir-638': 1038, 'hsa-mir-639': 1039, 'hsa-mir-640': 1040, 'hsa-mir-641': 1041, 'hsa-mir-642': 1042, 'hsa-mir-642a': 1043, 'hsa-mir-642b': 1044, 'hsa-mir-643': 1045, 'hsa-mir-644': 1046, 'hsa-mir-644a': 1047, 'hsa-mir-644b': 1048, 'hsa-mir-645': 1049, 'hsa-mir-646': 1050, 'hsa-mir-647': 1051, 'hsa-mir-648': 1052, 'hsa-mir-648a': 1053, 'hsa-mir-649': 1054, 'hsa-mir-650': 1055, 'hsa-mir-6508': 1056, 'hsa-mir-651': 1057, 'hsa-mir-652': 1058, 'hsa-mir-654': 1059, 'hsa-mir-655': 1060, 'hsa-mir-656': 1061, 'hsa-mir-657': 1062, 'hsa-mir-658': 1063, 'hsa-mir-659': 1064, 'hsa-mir-660': 1065, 'hsa-mir-661': 1066, 'hsa-mir-662': 1067, 'hsa-mir-663': 1068, 'hsa-mir-663a': 1069, 'hsa-mir-663b': 1070, 'hsa-mir-664': 1071, 'hsa-mir-664a': 1072, 'hsa-mir-664b': 1073, 'hsa-mir-665': 1074, 'hsa-mir-668': 1075, 'hsa-mir-670': 1076, 'hsa-mir-671': 1077, 'hsa-mir-672': 1078, 'hsa-mir-6720': 1079, 'hsa-mir-6721': 1080, 'hsa-mir-6724': 1081, 'hsa-mir-6729': 1082, 'hsa-mir-6734': 1083, 'hsa-mir-674': 1084, 'hsa-mir-675': 1085, 'hsa-mir-676': 1086, 'hsa-mir-6775': 1087, 'hsa-mir-6780b': 1088, 'hsa-mir-6782': 1089, 'hsa-mir-6798': 1090, 'hsa-mir-6799': 1091, 'hsa-mir-6826': 1092, 'hsa-mir-6831': 1093, 'hsa-mir-6836': 1094, 'hsa-mir-6838': 1095, 'hsa-mir-6852': 1096, 'hsa-mir-6853': 1097, 'hsa-mir-6861': 1098, 'hsa-mir-6867': 1099, 'hsa-mir-6869': 1100, 'hsa-mir-687': 1101, 'hsa-mir-6873': 1102, 'hsa-mir-6875': 1103, 'hsa-mir-6880': 1104, 'hsa-mir-6886': 1105, 'hsa-mir-690': 1106, 'hsa-mir-691': 1107, 'hsa-mir-694': 1108, 'hsa-mir-696': 1109, 'hsa-mir-7': 1110, 'hsa-mir-7-1': 1111, 'hsa-mir-7-2': 1112, 'hsa-mir-7-3': 1113, 'hsa-mir-703': 1114, 'hsa-mir-705': 1115, 'hsa-mir-708': 1116, 'hsa-mir-709': 1117, 'hsa-mir-710': 1118, 'hsa-mir-7107': 1119, 'hsa-mir-7109': 1120, 'hsa-mir-711': 1121, 'hsa-mir-712': 1122, 'hsa-mir-7152': 1123, 'hsa-mir-7161': 1124, 'hsa-mir-718': 1125, 'hsa-mir-719': 1126, 'hsa-mir-720': 1127, 'hsa-mir-741': 1128, 'hsa-mir-743a': 1129, 'hsa-mir-744': 1130, 'hsa-mir-7515': 1131, 'hsa-mir-758': 1132, 'hsa-mir-760': 1133, 'hsa-mir-761': 1134, 'hsa-mir-762': 1135, 'hsa-mir-764': 1136, 'hsa-mir-7641': 1137, 'hsa-mir-765': 1138, 'hsa-mir-766': 1139, 'hsa-mir-767': 1140, 'hsa-mir-768': 1141, 'hsa-mir-769': 1142, 'hsa-mir-770': 1143, 'hsa-mir-7702': 1144, 'hsa-mir-7705': 1145, 'hsa-mir-7706': 1146, 'hsa-mir-774': 1147, 'hsa-mir-7847': 1148, 'hsa-mir-786': 1149, 'hsa-mir-7a': 1150, 'hsa-mir-801': 1151, 'hsa-mir-802': 1152, 'hsa-mir-8084': 1153, 'hsa-mir-872': 1154, 'hsa-mir-873': 1155, 'hsa-mir-874': 1156, 'hsa-mir-875': 1157, 'hsa-mir-876': 1158, 'hsa-mir-877': 1159, 'hsa-mir-885': 1160, 'hsa-mir-886': 1161, 'hsa-mir-888': 1162, 'hsa-mir-889': 1163, 'hsa-mir-891a': 1164, 'hsa-mir-892a': 1165, 'hsa-mir-892b': 1166, 'hsa-mir-9': 1167, 'hsa-mir-9-1': 1168, 'hsa-mir-9-2': 1169, 'hsa-mir-9-3': 1170, 'hsa-mir-90b': 1171, 'hsa-mir-92': 1172, 'hsa-mir-92-1': 1173, 'hsa-mir-920': 1174, 'hsa-mir-921': 1175, 'hsa-mir-922': 1176, 'hsa-mir-923': 1177, 'hsa-mir-92a': 1178, 'hsa-mir-92a-1': 1179, 'hsa-mir-92a-2': 1180, 'hsa-mir-92b': 1181, 'hsa-mir-93': 1182, 'hsa-mir-933': 1183, 'hsa-mir-934': 1184, 'hsa-mir-935': 1185, 'hsa-mir-937': 1186, 'hsa-mir-938': 1187, 'hsa-mir-939': 1188, 'hsa-mir-940': 1189, 'hsa-mir-941': 1190, 'hsa-mir-941-1': 1191, 'hsa-mir-941-3': 1192, 'hsa-mir-941-4': 1193, 'hsa-mir-942': 1194, 'hsa-mir-943': 1195, 'hsa-mir-944': 1196, 'hsa-mir-95': 1197, 'hsa-mir-9500': 1198, 'hsa-mir-9501': 1199, 'hsa-mir-96': 1200, 'hsa-mir-98': 1201, 'hsa-mir-99': 1202, 'hsa-mir-99a': 1203, 'hsa-mir-99b': 1204, 'hsa-mir-9a': 1205}\n"
          ]
        }
      ]
    },
    {
      "cell_type": "code",
      "source": [
        "connectivity=np.zeros((len(disease_to_id), len(mirna_to_id)))"
      ],
      "metadata": {
        "id": "ftTq8FAfukdF"
      },
      "execution_count": null,
      "outputs": []
    },
    {
      "cell_type": "code",
      "source": [
        "for i in range(len(df)):\n",
        "  connectivity[disease_to_id[df.loc[i, 'disease']]][mirna_to_id[df.loc[i, 'mir']]]=1"
      ],
      "metadata": {
        "id": "EjagsPPhyomP"
      },
      "execution_count": null,
      "outputs": []
    },
    {
      "cell_type": "code",
      "source": [
        "f_l=np.zeros(len(mirna_to_id))\n",
        "K_d=np.zeros(len(disease_to_id))\n",
        "sets_of_mirna=[]\n",
        "for i in range(len(connectivity)):\n",
        "  cur_set=set()\n",
        "  for j in range(len(connectivity[i])):\n",
        "    if(connectivity[i][j]==1):\n",
        "      f_l[j]+=1\n",
        "      K_d[i]+=1\n",
        "      cur_set.add(j)\n",
        "  sets_of_mirna.append(cur_set)\n",
        "f_l=1/f_l\n",
        "f_s=1/K_d"
      ],
      "metadata": {
        "id": "-RYpKRCMOeyp"
      },
      "execution_count": null,
      "outputs": []
    },
    {
      "cell_type": "code",
      "source": [
        "M=np.zeros((len(disease_to_id), len(disease_to_id)))\n",
        "for i in range(len(disease_to_id)):\n",
        "  for j in range(len(disease_to_id)):\n",
        "    z=sets_of_mirna[i].intersection(sets_of_mirna[j])\n",
        "    M[i][j]=len(z)"
      ],
      "metadata": {
        "id": "JBNoG4iaPCUD"
      },
      "execution_count": null,
      "outputs": []
    },
    {
      "cell_type": "code",
      "source": [
        "print(M)"
      ],
      "metadata": {
        "colab": {
          "base_uri": "https://localhost:8080/"
        },
        "id": "ZMIhs18Rbhwz",
        "outputId": "4f7c2e84-b20c-4e72-8890-b9279d231649"
      },
      "execution_count": null,
      "outputs": [
        {
          "output_type": "stream",
          "name": "stdout",
          "text": [
            "[[ 7.  0.  0. ...  0.  0.  0.]\n",
            " [ 0.  2.  0. ...  0.  0.  0.]\n",
            " [ 0.  0. 13. ...  2.  1.  1.]\n",
            " ...\n",
            " [ 0.  0.  2. ...  3.  1.  1.]\n",
            " [ 0.  0.  1. ...  1. 11.  1.]\n",
            " [ 0.  0.  1. ...  1.  1.  1.]]\n"
          ]
        }
      ]
    },
    {
      "cell_type": "code",
      "source": [
        "f_o=np.zeros((len(disease_to_id), len(disease_to_id)))\n",
        "for i in range(len(disease_to_id)):\n",
        "  for j in range(len(disease_to_id)):\n",
        "    f_o[i][j]=K_d[i]-M[i][j]+1\n",
        "f_o=1/f_o\n",
        "print(f_o)"
      ],
      "metadata": {
        "colab": {
          "base_uri": "https://localhost:8080/"
        },
        "id": "UygdTsnYdZ4q",
        "outputId": "21d745e6-88bf-45b8-fe52-3a5a2143d1f6"
      },
      "execution_count": null,
      "outputs": [
        {
          "output_type": "stream",
          "name": "stdout",
          "text": [
            "[[1.         0.125      0.125      ... 0.125      0.125      0.125     ]\n",
            " [0.33333333 1.         0.33333333 ... 0.33333333 0.33333333 0.33333333]\n",
            " [0.07142857 0.07142857 1.         ... 0.08333333 0.07692308 0.07692308]\n",
            " ...\n",
            " [0.25       0.25       0.5        ... 1.         0.33333333 0.33333333]\n",
            " [0.08333333 0.08333333 0.09090909 ... 0.09090909 1.         0.09090909]\n",
            " [0.5        0.5        1.         ... 1.         1.         1.        ]]\n"
          ]
        }
      ]
    },
    {
      "cell_type": "code",
      "source": [
        "sig=np.zeros((len(disease_to_id), len(disease_to_id)))\n",
        "for i in range(len(disease_to_id)):\n",
        "  for j in range(len(disease_to_id)):\n",
        "    sum=0\n",
        "    z=sets_of_mirna[i].intersection(sets_of_mirna[j])\n",
        "    for k in z:\n",
        "      sum+=f_l[k]\n",
        "    sig[i][j]=f_s[i]*f_o[j][i]*sum\n",
        "print(sig)"
      ],
      "metadata": {
        "colab": {
          "base_uri": "https://localhost:8080/"
        },
        "id": "6tDX1CE7fb3Q",
        "outputId": "dbff6c16-4703-420c-8112-014be6e06d1c"
      },
      "execution_count": null,
      "outputs": [
        {
          "output_type": "stream",
          "name": "stdout",
          "text": [
            "[[1.62071217e-02 0.00000000e+00 0.00000000e+00 ... 0.00000000e+00\n",
            "  0.00000000e+00 0.00000000e+00]\n",
            " [0.00000000e+00 5.03184713e-01 0.00000000e+00 ... 0.00000000e+00\n",
            "  0.00000000e+00 0.00000000e+00]\n",
            " [0.00000000e+00 0.00000000e+00 2.00566252e-02 ... 2.99544692e-04\n",
            "  2.17850685e-05 2.39635754e-04]\n",
            " ...\n",
            " [0.00000000e+00 0.00000000e+00 2.16337833e-04 ... 1.92627207e-02\n",
            "  9.44019636e-05 1.03842160e-03]\n",
            " [0.00000000e+00 0.00000000e+00 2.17850685e-05 ... 9.44019636e-05\n",
            "  1.76436724e-02 2.83205891e-04]\n",
            " [0.00000000e+00 0.00000000e+00 2.39635754e-04 ... 1.03842160e-03\n",
            "  2.83205891e-04 3.11526480e-03]]\n"
          ]
        }
      ]
    },
    {
      "cell_type": "code",
      "source": [
        "rating=sig@connectivity"
      ],
      "metadata": {
        "id": "u4oRZ2n6iKzE"
      },
      "execution_count": null,
      "outputs": []
    },
    {
      "cell_type": "code",
      "source": [
        "print(rating)"
      ],
      "metadata": {
        "colab": {
          "base_uri": "https://localhost:8080/"
        },
        "id": "KQRbTzIPilYC",
        "outputId": "027a2c9d-9132-49c7-dc8b-1ae41dae7bb2"
      },
      "execution_count": null,
      "outputs": [
        {
          "output_type": "stream",
          "name": "stdout",
          "text": [
            "[[3.33987510e-03 4.95300402e-03 1.69172673e-03 ... 2.81157418e-03\n",
            "  1.65424664e-03 2.79017857e-05]\n",
            " [1.56885385e-03 2.31201956e-03 8.18383223e-04 ... 1.09140384e-03\n",
            "  4.97090693e-04 0.00000000e+00]\n",
            " [3.06378811e-03 4.56833367e-03 2.91921839e-03 ... 2.77724719e-03\n",
            "  1.50708756e-03 4.08160084e-05]\n",
            " ...\n",
            " [4.07430178e-03 4.89210603e-03 2.05647767e-03 ... 2.60030737e-03\n",
            "  1.62654545e-03 8.37436774e-05]\n",
            " [3.25954966e-03 5.03941817e-03 2.76180476e-03 ... 3.30241179e-03\n",
            "  1.57593079e-03 4.20856887e-05]\n",
            " [3.49251360e-03 5.42348543e-03 2.36209343e-03 ... 2.45772520e-03\n",
            "  1.18944157e-03 9.73520249e-05]]\n"
          ]
        }
      ]
    },
    {
      "cell_type": "code",
      "source": [
        "minn, maxx = 1000000000, -10000000000\n",
        "for i in range(len(rating)):\n",
        "  for j in range(len(rating[0])):\n",
        "    if(rating[i][j] > 0):\n",
        "      minn = min(minn, rating[i][j])\n",
        "      maxx = max(maxx, rating[i][j])"
      ],
      "metadata": {
        "id": "rP6ZbRBlksqc"
      },
      "execution_count": null,
      "outputs": []
    },
    {
      "cell_type": "code",
      "source": [
        "print(minn, maxx)"
      ],
      "metadata": {
        "colab": {
          "base_uri": "https://localhost:8080/"
        },
        "id": "_0pcmPq6s0ns",
        "outputId": "8d6a8467-ff30-484a-c9cd-55be80b57cd3"
      },
      "execution_count": null,
      "outputs": [
        {
          "output_type": "stream",
          "name": "stdout",
          "text": [
            "1.5346132007427527e-06 1.0\n"
          ]
        }
      ]
    },
    {
      "cell_type": "code",
      "source": [
        "number_of_points = 50"
      ],
      "metadata": {
        "id": "1Z-P52CLvClV"
      },
      "execution_count": null,
      "outputs": []
    },
    {
      "cell_type": "code",
      "source": [
        "delta_t = ((maxx - minn) / (number_of_points * 10))\n",
        "print(delta_t)"
      ],
      "metadata": {
        "colab": {
          "base_uri": "https://localhost:8080/"
        },
        "id": "_ZX0iHXPvE-X",
        "outputId": "9c2e6dc7-5793-4154-ab22-8c113cd1d814"
      },
      "execution_count": null,
      "outputs": [
        {
          "output_type": "stream",
          "name": "stdout",
          "text": [
            "0.0019999969307735984\n"
          ]
        }
      ]
    },
    {
      "cell_type": "code",
      "source": [
        "print(len(rating), len(rating[0]))"
      ],
      "metadata": {
        "colab": {
          "base_uri": "https://localhost:8080/"
        },
        "id": "qRYH8Ej0xwB5",
        "outputId": "9aaee29a-e831-4038-e319-06d5392fb6fc"
      },
      "execution_count": null,
      "outputs": [
        {
          "output_type": "stream",
          "name": "stdout",
          "text": [
            "894 1206\n"
          ]
        }
      ]
    },
    {
      "cell_type": "code",
      "source": [
        "fpr_arr, tpr_arr = list(), list()\n",
        "for step in range(number_of_points):\n",
        "  thres = minn + ((step+1)*delta_t)\n",
        "  print('threshold:', thres)\n",
        "  tp, tn, fp, fn = 0, 0, 0, 0\n",
        "  for i in range(len(rating)):\n",
        "    for j in range(len(rating[0])):\n",
        "      if(rating[i][j] < thres and connectivity[i][j] == 1):\n",
        "        tp += 1\n",
        "      elif(rating[i][j] < thres and connectivity[i][j] == 0):\n",
        "        fp += 1\n",
        "      elif(rating[i][j] >= thres and connectivity[i][j] == 1):\n",
        "        fn += 1\n",
        "      elif(rating[i][j] >= thres and connectivity[i][j] == 0):\n",
        "        tn += 1\n",
        "  fpr, tpr = fp/(fp + tn), tp/(fp + fn)\n",
        "  if(tpr > 0 and fpr>0):\n",
        "    print('fpr:', fpr, 'tpr:', tpr)\n",
        "    fpr_arr.append(fpr), tpr_arr.append(tpr)"
      ],
      "metadata": {
        "colab": {
          "base_uri": "https://localhost:8080/"
        },
        "id": "bUUJCe02vOZ1",
        "outputId": "e872a9bc-d1ef-47fc-f81f-aaba1c0f17d9"
      },
      "execution_count": null,
      "outputs": [
        {
          "output_type": "stream",
          "name": "stdout",
          "text": [
            "threshold: 0.0020015315439743412\n",
            "threshold: 0.00400152847474794\n",
            "threshold: 0.006001525405521538\n",
            "threshold: 0.008001522336295136\n",
            "threshold: 0.010001519267068734\n",
            "threshold: 0.012001516197842333\n",
            "threshold: 0.014001513128615932\n",
            "fpr: 0.9991391613619374 tpr: 9.28288764642595e-07\n",
            "threshold: 0.016001510059389528\n",
            "fpr: 0.9994440417129179 tpr: 7.4241323277346095e-06\n",
            "threshold: 0.018001506990163126\n",
            "fpr: 0.999646980646233 tpr: 3.2474913129607376e-05\n",
            "threshold: 0.020001503920936723\n",
            "fpr: 0.9997744074183147 tpr: 0.00011968869804675467\n",
            "threshold: 0.022001500851710324\n",
            "fpr: 0.9998461439714866 tpr: 0.00028672385059924356\n",
            "threshold: 0.02400149778248392\n",
            "fpr: 0.9998980585823347 tpr: 0.0005317949331915214\n",
            "threshold: 0.02600149471325752\n",
            "fpr: 0.999952804899229 tpr: 0.0008587165297826101\n",
            "threshold: 0.02800149164403112\n",
            "fpr: 0.999959412213337 tpr: 0.0012723461598828326\n",
            "threshold: 0.030001488574804717\n",
            "fpr: 0.9999754585475991 tpr: 0.0016890887468410882\n",
            "threshold: 0.03200148550557832\n",
            "fpr: 0.9999896170778304 tpr: 0.0021089634198482366\n",
            "threshold: 0.03400148243635192\n",
            "fpr: 0.9999943365879075 tpr: 0.0025329308911565007\n",
            "threshold: 0.03600147936712551\n",
            "fpr: 0.9999971682939537 tpr: 0.0029190073142621137\n",
            "threshold: 0.038001476297899114\n",
            "fpr: 0.9999971682939537 tpr: 0.0032867156944396624\n",
            "threshold: 0.04000147322867271\n",
            "fpr: 0.9999971682939537 tpr: 0.003655628103374125\n",
            "threshold: 0.04200147015944631\n",
            "fpr: 0.9999971682939537 tpr: 0.004047252087184478\n",
            "threshold: 0.04400146709021991\n",
            "fpr: 0.9999971682939537 tpr: 0.004454154167210122\n",
            "threshold: 0.046001464020993504\n",
            "fpr: 0.9999971682939537 tpr: 0.004859513098037461\n",
            "threshold: 0.048001460951767105\n",
            "fpr: 0.9999971682939537 tpr: 0.005290507017800682\n",
            "threshold: 0.050001457882540706\n",
            "fpr: 0.9999971682939537 tpr: 0.00571155126963783\n",
            "threshold: 0.0520014548133143\n",
            "fpr: 0.9999981121959691 tpr: 0.006198671046737345\n",
            "threshold: 0.0540014517440879\n",
            "fpr: 0.9999981121959691 tpr: 0.006683448427830335\n",
            "threshold: 0.0560014486748615\n",
            "fpr: 0.9999981121959691 tpr: 0.0072138559844549905\n",
            "threshold: 0.058001445605635096\n",
            "fpr: 0.9999981121959691 tpr: 0.007761777731250316\n",
            "threshold: 0.0600014425364087\n",
            "fpr: 0.9999981121959691 tpr: 0.008312181910342905\n",
            "threshold: 0.06200143946718229\n",
            "fpr: 0.9999981121959691 tpr: 0.008841475681497278\n",
            "threshold: 0.06400143639795589\n",
            "fpr: 0.9999990560979846 tpr: 0.009288166247129626\n",
            "threshold: 0.06600143332872949\n",
            "fpr: 0.9999990560979846 tpr: 0.009671906240196286\n",
            "threshold: 0.06800143025950309\n",
            "fpr: 1.0 tpr: 0.009962258636533527\n",
            "threshold: 0.07000142719027667\n",
            "fpr: 1.0 tpr: 0.010254680384550515\n",
            "threshold: 0.07200142412105028\n",
            "fpr: 1.0 tpr: 0.010588948763060439\n",
            "threshold: 0.07400142105182388\n",
            "fpr: 1.0 tpr: 0.010882681375678938\n",
            "threshold: 0.07600141798259748\n",
            "fpr: 1.0 tpr: 0.011170894712605732\n",
            "threshold: 0.07800141491337108\n",
            "fpr: 1.0 tpr: 0.011462119094213028\n",
            "threshold: 0.08000141184414467\n",
            "fpr: 1.0 tpr: 0.011720282187610846\n",
            "threshold: 0.08200140877491827\n",
            "fpr: 1.0 tpr: 0.011963379631280868\n",
            "threshold: 0.08400140570569187\n",
            "fpr: 1.0 tpr: 0.012199941981037752\n",
            "threshold: 0.08600140263646547\n",
            "fpr: 1.0 tpr: 0.012417600991605162\n",
            "threshold: 0.08800139956723907\n",
            "fpr: 1.0 tpr: 0.012606821752895774\n",
            "threshold: 0.09000139649801267\n",
            "fpr: 1.0 tpr: 0.012808481497450985\n",
            "threshold: 0.09200139342878626\n",
            "fpr: 1.0 tpr: 0.013073995771670191\n",
            "threshold: 0.09400139035955986\n",
            "fpr: 1.0 tpr: 0.013298697197593265\n",
            "threshold: 0.09600138729033346\n",
            "fpr: 1.0 tpr: 0.013544459443707016\n",
            "threshold: 0.09800138422110706\n",
            "fpr: 1.0 tpr: 0.013731242243032833\n",
            "threshold: 0.10000138115188066\n",
            "fpr: 1.0 tpr: 0.013920954407769328\n"
          ]
        }
      ]
    },
    {
      "cell_type": "code",
      "source": [
        "from matplotlib import pyplot as plt"
      ],
      "metadata": {
        "id": "v39UOQeixVIp"
      },
      "execution_count": null,
      "outputs": []
    },
    {
      "cell_type": "code",
      "source": [
        "plt.plot(tpr_arr, fpr_arr)\n",
        "plt.show()"
      ],
      "metadata": {
        "colab": {
          "base_uri": "https://localhost:8080/",
          "height": 265
        },
        "id": "A0VaF_L_wxFN",
        "outputId": "15a5c0b7-7e6f-4574-cfbe-1365f3b8834b"
      },
      "execution_count": null,
      "outputs": [
        {
          "output_type": "display_data",
          "data": {
            "text/plain": [
              "<Figure size 432x288 with 1 Axes>"
            ],
            "image/png": "[encoded data removed]"
          },
          "metadata": {
            "needs_background": "light"
          }
        }
      ]
    }
  ]
}